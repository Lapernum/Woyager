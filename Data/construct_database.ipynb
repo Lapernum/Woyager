{
 "cells": [
  {
   "cell_type": "code",
   "execution_count": null,
   "metadata": {},
   "outputs": [],
   "source": [
    "%load_ext autoreload\n",
    "%autoreload 2\n",
    "from data_api import *\n",
    "from tqdm import tqdm"
   ]
  },
  {
   "cell_type": "code",
   "execution_count": null,
   "metadata": {},
   "outputs": [],
   "source": [
    "CONF_PATH = 'D:/CSE6242/TreeMusicRecommendation/Data/conf.json'"
   ]
  },
  {
   "cell_type": "code",
   "execution_count": null,
   "metadata": {},
   "outputs": [],
   "source": [
    "database = database_api(CONF_PATH)\n",
    "last_fm = lastfm_api(CONF_PATH)\n",
    "result = last_fm.get_user_friends(username='rj')"
   ]
  },
  {
   "cell_type": "code",
   "execution_count": null,
   "metadata": {},
   "outputs": [],
   "source": [
    "\"construrt userdatabse with 100000 users, Do not run it again\"\n",
    "import queue\n",
    "start_username = \"Kimgs\"\n",
    "user_queue = queue.Queue()\n",
    "user_queue.put(start_username)\n",
    "users_processed = set()\n",
    "users_processed.add(start_username)\n",
    "\n",
    "while not user_queue.empty() and len(users_processed) < 10000:\n",
    "    current_username = user_queue.get()\n",
    "    friends = last_fm.get_user_friends(current_username)\n",
    "\n",
    "    if friends:\n",
    "        for friend in friends:\n",
    "            friend_name = friend['name']\n",
    "            if friend_name not in users_processed:\n",
    "                users_processed.add(friend_name)\n",
    "                user_queue.put(friend_name)\n",
    "                database.save_users([friend])  # Assuming save_users takes a list\n",
    "                \n",
    "                # If we've reached 10,000 users, we can break early\n",
    "                if len(users_processed) >= 10000:\n",
    "                    break\n",
    "\n",
    "print(f\"Total users in database: {len(users_processed)}\")\n"
   ]
  },
  {
   "cell_type": "code",
   "execution_count": null,
   "metadata": {},
   "outputs": [],
   "source": [
    "# 备份 user 表\n",
    "# cursor = database.cnx_cursor\n",
    "# source_table = 'Users'\n",
    "# new_table = 'Users_copy'\n",
    "\n",
    "# drop the table if it exists\n",
    "# drop_table_query = f\"DROP TABLE IF EXISTS {new_table};\"\n",
    "# cursor.execute(drop_table_query)\n",
    "\n",
    "# SQL statement to create a new table as a copy of another\n",
    "# create_table_query = f\"CREATE TABLE {new_table} LIKE {source_table};\"\n",
    "# cursor.execute(create_table_query)\n",
    "\n",
    "# SQL statement to copy all data from the source table to the new table\n",
    "# insert_data_query = f\"INSERT INTO {new_table} SELECT * FROM {source_table};\"\n",
    "# cursor.execute(insert_data_query)\n",
    "\n",
    "# Commit the changes\n",
    "# database.cnx.commit()\n"
   ]
  },
  {
   "cell_type": "code",
   "execution_count": null,
   "metadata": {},
   "outputs": [],
   "source": [
    "cursor = database.cnx_cursor\n",
    "source_table = 'Users_copy'\n",
    "new_table = 'Users'\n",
    "\n",
    "# SQL statement to copy all data from the source table to the new table\n",
    "insert_data_query = f\"INSERT INTO {new_table} SELECT * FROM {source_table};\"\n",
    "cursor.execute(insert_data_query)\n",
    "\n",
    "# Commit the changes\n",
    "database.cnx.commit()\n"
   ]
  },
  {
   "cell_type": "code",
   "execution_count": null,
   "metadata": {},
   "outputs": [],
   "source": [
    "# construct top_tracks\n",
    "users = database.get_all_users()\n",
    "for j in range(0, len(users)):\n",
    "    try:\n",
    "        user_id = users[j][0]\n",
    "        user_name = users[j][1]\n",
    "        top_tracks = last_fm.get_top_tracks(username=user_name)\n",
    "        artist_infos = []\n",
    "        if not top_tracks:\n",
    "            print(j)\n",
    "            continue\n",
    "        for i in range(len(top_tracks)):\n",
    "                track = top_tracks[i]\n",
    "                url = track['track_url']\n",
    "                start = len(\"https://www.last.fm/music/\")\n",
    "                end = url.index(\"/_/\")\n",
    "                artist_name = url[start:end]\n",
    "\n",
    "                top_tracks[i]['artist_name'] =  artist_name\n",
    "                artist_url = \"https://www.last.fm/music/\" + artist_name\n",
    "                artist_info = {\"artist_name\": artist_name, \"artist_url\": artist_url}\n",
    "                artist_infos.append(artist_info)\n",
    "                top_tracks[i]['track_id'] = track['artist_name'] + \": \" + track['track_name']\n",
    "\n",
    "        \n",
    "        database.save_artists(artist_infos)\n",
    "        database.save_tracks(top_tracks)\n",
    "        database.save_top_tracks(user_id, top_tracks)\n",
    "    except:\n",
    "        print('write user '+str(j)+' failed')\n",
    "        continue\n"
   ]
  },
  {
   "cell_type": "code",
   "execution_count": null,
   "metadata": {},
   "outputs": [],
   "source": [
    "# Construct listening history\n",
    "users = database.get_all_users()\n",
    "for j in range(len(users)):\n",
    "    user_id = users[j][0]\n",
    "    user_name = users[j][1]\n",
    "    recent_tracks = last_fm.get_recent_tracks(username=user_name)\n",
    "    if not recent_tracks:\n",
    "        continue\n",
    "    for i in range(len(recent_tracks)):\n",
    "        try:\n",
    "            track = recent_tracks[i]\n",
    "            url = track['track_url']\n",
    "            start = len(\"https://www.last.fm/music/\")\n",
    "            end = url.index(\"/_/\")\n",
    "            artist_name = url[start:end]\n",
    "\n",
    "            recent_tracks[i]['artist_name'] =  artist_name\n",
    "            artist_url = \"https://www.last.fm/music/\" + artist_name\n",
    "            artist_info = {\"artist_name\": artist_name, \"artist_url\": artist_url}\n",
    "            artist_infos.append(artist_info)\n",
    "            recent_tracks[i]['track_id'] = track['artist_name'] + \": \" + track['track_name']\n",
    "\n",
    "        except:\n",
    "            continue\n",
    "\n",
    "    database.save_artists(artist_infos)\n",
    "    database.save_tracks(recent_tracks)\n",
    "    database.save_listening_history(1, recent_tracks)\n",
    "    print(j)"
   ]
  },
  {
   "cell_type": "code",
   "execution_count": null,
   "metadata": {},
   "outputs": [],
   "source": [
    "# copy top_tracks to top_tracks_copy\n",
    "cursor = database.cnx_cursor\n",
    "source_table = 'Top_track'\n",
    "new_table = 'Top_track_copy'\n",
    "\n",
    "# drop the table if it exists\n",
    "drop_table_query = f\"DROP TABLE IF EXISTS {new_table};\"\n",
    "cursor.execute(drop_table_query)\n",
    "\n",
    "# SQL statement to create a new table as a copy of another\n",
    "create_table_query = f\"CREATE TABLE {new_table} LIKE {source_table};\"\n",
    "cursor.execute(create_table_query)\n",
    "\n",
    "# SQL statement to copy all data from the source table to the new table\n",
    "insert_data_query = f\"INSERT INTO {new_table} SELECT * FROM {source_table};\"\n",
    "cursor.execute(insert_data_query)\n"
   ]
  },
  {
   "cell_type": "code",
   "execution_count": null,
   "metadata": {},
   "outputs": [],
   "source": [
    "# test\n",
    "user_id = 1\n",
    "user_name = \"rj\"\n",
    "\n",
    "top_artists = last_fm.get_top_artist(username=user_name)\n",
    "\n",
    "\n",
    "# save top artists\n",
    "database.save_artists(top_artists)\n",
    "database.save_top_artists(user_id, top_artists)"
   ]
  },
  {
   "cell_type": "code",
   "execution_count": null,
   "metadata": {},
   "outputs": [],
   "source": [
    "# save top artists\n",
    "users = database.get_all_users()\n",
    "\n",
    "for j in range(len(users)):\n",
    "    try:\n",
    "        user_id = users[j][0]\n",
    "        user_name = users[j][1]\n",
    "        top_artists = last_fm.get_top_artist(username=user_name)\n",
    "        database.save_artists(top_artists)\n",
    "        database.save_top_artists(user_id, top_artists)\n",
    "        print(\"insert user \"+str(j)+\" success\")\n",
    "    except:\n",
    "        print(\"insert user \"+str(j)+\" failed\")\n",
    "        continue\n"
   ]
  },
  {
   "cell_type": "code",
   "execution_count": null,
   "metadata": {},
   "outputs": [],
   "source": []
  },
  {
   "cell_type": "code",
   "execution_count": null,
   "metadata": {},
   "outputs": [],
   "source": [
    "# construct top artists\n"
   ]
  },
  {
   "cell_type": "code",
   "execution_count": null,
   "metadata": {},
   "outputs": [],
   "source": [
    "all_tracks = database.get_all_tracks()\n",
    "all_artists = database.get_all_artists()\n",
    "print(len(all_tracks))"
   ]
  },
  {
   "cell_type": "code",
   "execution_count": null,
   "metadata": {},
   "outputs": [],
   "source": [
    "# Don't run this cell\n",
    "query = \"\"\"TRUNCATE TABLE Track_tag\"\"\"\n",
    "\n",
    "database.cnx_cursor.execute(query)"
   ]
  },
  {
   "cell_type": "code",
   "execution_count": null,
   "metadata": {},
   "outputs": [],
   "source": [
    "test_str = \"Heard It Everyday \"\n",
    "len(test_str.encode('utf-8')) <= len(test_str)"
   ]
  },
  {
   "cell_type": "code",
   "execution_count": null,
   "metadata": {},
   "outputs": [],
   "source": [
    "for track in tqdm(all_tracks):\n",
    "    track_tags = last_fm.get_track_tags(track[1], track[3])\n",
    "    if track_tags is None or len(track_tags) == 0:\n",
    "        continue\n",
    "    tag_names = [t[\"tag_name\"] for t in track_tags if len(t[\"tag_name\"]) <= 30]\n",
    "    database.save_tags(tag_names)\n",
    "    tag_ids = database.get_tag_id(tag_names)\n",
    "    tag_ids_with_count = []\n",
    "    for ind, tag in enumerate(track_tags):\n",
    "        tag_ids_with_count.append({\"tag_id\": tag_ids[ind], \"tag_count\": tag[\"tag_count\"]})\n",
    "    database.save_track_tag(track[0], tag_ids_with_count)"
   ]
  },
  {
   "cell_type": "code",
   "execution_count": null,
   "metadata": {},
   "outputs": [],
   "source": [
    "query = \"\"\"create table Artist_tag (\n",
    "\ttag_id BIGINT NOT NULL,\n",
    "    artist_name VARCHAR(100) NOT NULL,\n",
    "    tag_count INTEGER NOT NULL,\n",
    "    foreign key (tag_id) references Tags(tag_id),\n",
    "    foreign key (artist_name) references Artists(artist_name)\n",
    ")\"\"\"\n",
    "\n",
    "database.cnx_cursor.execute(query)"
   ]
  },
  {
   "cell_type": "code",
   "execution_count": null,
   "metadata": {},
   "outputs": [],
   "source": [
    "# Don't run this cell\n",
    "query = \"\"\"TRUNCATE TABLE Artist_tag\"\"\"\n",
    "\n",
    "database.cnx_cursor.execute(query)"
   ]
  },
  {
   "cell_type": "code",
   "execution_count": null,
   "metadata": {},
   "outputs": [],
   "source": [
    "for artist in tqdm(all_artists):\n",
    "    artist_tags = last_fm.get_artist_tags(artist[0])\n",
    "    if artist_tags is None or len(artist_tags) == 0:\n",
    "        continue\n",
    "    tag_names = [t[\"tag_name\"] for t in artist_tags if len(t[\"tag_name\"]) <= 30]\n",
    "    database.save_tags(tag_names)\n",
    "    tag_ids = database.get_tag_id(tag_names)\n",
    "    tag_ids_with_count = []\n",
    "    for ind, tag in enumerate(artist_tags):\n",
    "        tag_ids_with_count.append({\"tag_id\": tag_ids[ind], \"tag_count\": tag[\"tag_count\"]})\n",
    "    database.save_artist_tag(artist[0], tag_ids_with_count)"
   ]
  },
  {
   "cell_type": "code",
   "execution_count": null,
   "metadata": {},
   "outputs": [],
   "source": []
  }
 ],
 "metadata": {
  "kernelspec": {
   "display_name": "Python 3",
   "language": "python",
   "name": "python3"
  },
  "language_info": {
   "codemirror_mode": {
    "name": "ipython",
    "version": 3
   },
   "file_extension": ".py",
   "mimetype": "text/x-python",
   "name": "python",
   "nbconvert_exporter": "python",
   "pygments_lexer": "ipython3",
   "version": "3.8.18"
  }
 },
 "nbformat": 4,
 "nbformat_minor": 2
}
