{
 "cells": [
  {
   "cell_type": "code",
   "execution_count": 2,
   "metadata": {
    "collapsed": true
   },
   "outputs": [],
   "source": [
    "# environment setup\n",
    "import sys\n",
    "sys.path.append('../../Data')"
   ]
  },
  {
   "cell_type": "code",
   "execution_count": 77,
   "outputs": [],
   "source": [
    "import data_api\n",
    "import importlib"
   ],
   "metadata": {
    "collapsed": false
   }
  },
  {
   "cell_type": "code",
   "execution_count": 78,
   "outputs": [
    {
     "data": {
      "text/plain": "<module 'data_api' from '../../Data/data_api.py'>"
     },
     "execution_count": 78,
     "metadata": {},
     "output_type": "execute_result"
    }
   ],
   "source": [
    "importlib.reload(data_api)"
   ],
   "metadata": {
    "collapsed": false
   }
  },
  {
   "cell_type": "code",
   "execution_count": 52,
   "outputs": [],
   "source": [
    "# import necessary packages\n",
    "import json\n",
    "from data_api import fetch_high_quality_users, get_user_feature\n",
    "import csv\n",
    "import datetime\n",
    "import math\n",
    "import openai\n",
    "from user_algorithm import calculate_recent_tracks_score, calculate_top_tracks_score, calculate_top_artists_score, fetch_user_tag\n",
    "import pandas as pd\n"
   ],
   "metadata": {
    "collapsed": false
   }
  },
  {
   "cell_type": "code",
   "execution_count": 82,
   "outputs": [
    {
     "data": {
      "text/plain": "'Pop: 0.8, R&B: 0.7, Blues: 0.6, Mandopop: 0.5, Country: 0.4'"
     },
     "execution_count": 82,
     "metadata": {},
     "output_type": "execute_result"
    }
   ],
   "source": [
    "fetch_user_tag({   \"Maroon 5\": 1,\n",
    "    \"Bruno Mars\": 1,\n",
    "    \"Taylor Swift\": 1,\n",
    "    \"Junjie Lin\": 1,\n",
    "    \"Jay Zhou\": 1,\n",
    "    \"Micheal Jackson\": 1,  # Note: There's a typo in \"Michael\" Jackson\n",
    "    \"B.B. King\": 1,\n",
    "    \"Muddy Waters\": 1,\n",
    "    \"Howlin' Wolf\": 1,\n",
    "    \"Etta James\": 1})"
   ],
   "metadata": {
    "collapsed": false
   }
  },
  {
   "cell_type": "code",
   "execution_count": null,
   "outputs": [],
   "source": [
    "def get_artist_name(artist_id, conn):\n",
    "    cursor = conn.cursor()\n",
    "    cursor.execute(\"SELECT artist_name FROM Artists WHERE artist_id = ?\", (artist_id,))\n",
    "    result = cursor.fetchone()\n",
    "    if result:\n",
    "        return result[0]\n",
    "    return None\n",
    "\n",
    "def transform_artist_feature_to_names(artist_feature, conn):\n",
    "    \"\"\"\n",
    "    Transform the artist feature from artist IDs to artist names\n",
    "    :param artist_feature: the artist feature in the format of {artist_id: score}\n",
    "    :param conn: the connection to the database\n",
    "    :return: the artist feature in the format of {artist_name: score}\n",
    "    \"\"\"\n",
    "    artist_feature_names = {}\n",
    "    for artist_id in artist_feature:\n",
    "        artist_name = get_artist_name(artist_id, conn)\n",
    "        if artist_name:\n",
    "            artist_feature_names[artist_name] = artist_feature[artist_id]\n",
    "    return artist_feature_names\n"
   ],
   "metadata": {
    "collapsed": false
   }
  },
  {
   "cell_type": "code",
   "execution_count": 63,
   "outputs": [],
   "source": [
    "def write_features_to_csv(conn, output_file):\n",
    "    \"\"\"\n",
    "    Write all the features of users into a csv file\n",
    "    :param conn: the connection to the database\n",
    "    :param output_file: the output file name\n",
    "    :return: None\n",
    "    \"\"\"\n",
    "    all_users = fetch_high_quality_users(conn)\n",
    "    with open(output_file, 'w', newline='') as csvfile:\n",
    "        fieldnames = ['user_id', 'Recent Tracks', 'Top Tracks', 'Top Artists']\n",
    "        writer = csv.DictWriter(csvfile, fieldnames=fieldnames)\n",
    "        writer.writeheader()\n",
    "        i = 0\n",
    "        while i < len(all_users):\n",
    "            print(\"Fetching data for user \" + str(i))\n",
    "            try:\n",
    "                user_id = all_users[i]\n",
    "                features = get_user_feature(conn, user_id)\n",
    "\n",
    "                # Get the feature information\n",
    "                recent_tracks = features['Recent Tracks']\n",
    "                top_tracks = features['Top Tracks']\n",
    "                top_artists = features['Top Artists']\n",
    "                top_artists_names = transform_artist_feature_to_names(top_artists, conn)\n",
    "\n",
    "\n",
    "\n",
    "                # Convert the feature information into feature scores\n",
    "                recent_tracks_score = calculate_recent_tracks_score(recent_tracks)\n",
    "                top_tracks_score = calculate_top_tracks_score(top_tracks)\n",
    "                top_artists_score = calculate_top_artists_score(top_artists)\n",
    "                top_tags = fetch_user_tag(top_artists_names)\n",
    "\n",
    "\n",
    "\n",
    "                # Convert the feature scores into the JSON format\n",
    "                json_recent_tracks_score = json.dumps(recent_tracks_score)\n",
    "                json_top_tracks_score = json.dumps(top_tracks_score)\n",
    "                json_top_artists_score = json.dumps(top_artists_score)\n",
    "                json_top_tags = json.dumps(top_tags)\n",
    "\n",
    "                writer.writerow({\n",
    "                    'user_id': user_id,\n",
    "                    'Recent Tracks': json_recent_tracks_score, #dict{track_id: score}\n",
    "                    'Top Tracks': json_top_tracks_score,\n",
    "                    'Top Artists': json_top_artists_score,\n",
    "                    'Top Tags': json_top_tags\n",
    "                })\n",
    "                i += 1\n",
    "\n",
    "            except Exception as e:\n",
    "                print(e)\n",
    "                print(\"Error: unable to fetch data for user \" + str(user_id))\n",
    "                writer.writerow({\n",
    "                    'user_id': user_id,\n",
    "                    'Recent Tracks': None,\n",
    "                    'Top Tracks': None,\n",
    "                    'Top Artists': None,\n",
    "                    'Top Tags': None\n",
    "                })\n",
    "                i += 1\n",
    "                continue\n",
    "\n",
    "\n",
    "\n",
    "\n"
   ],
   "metadata": {
    "collapsed": false
   }
  },
  {
   "cell_type": "code",
   "execution_count": 80,
   "outputs": [],
   "source": [
    "def recent_track_feature_csv(all_feature_csv):\n",
    "    df = pd.read_csv(all_feature_csv)\n",
    "\n",
    "    # Extract all unique track IDs from the 'Recent Tracks' column\n",
    "    all_track_ids = set()\n",
    "    for recent_tracks in df['Recent Tracks']:\n",
    "        all_track_ids.update(eval(recent_tracks).keys())\n",
    "\n",
    "    recent_track_table = pd.DataFrame()\n",
    "    recent_track_table[\"user_id\"] = df[\"user_id\"]\n",
    "\n",
    "    for track_id in all_track_ids:\n",
    "        recent_track_table[f\"Recent Track Score {track_id}\"] = None\n",
    "\n",
    "        for idx, row in df.iterrows():\n",
    "            user_recent_tracks = eval(row['Recent Tracks'])\n",
    "            if track_id in user_recent_tracks:\n",
    "                recent_track_table.at[idx, f\"Recent Track Score {track_id}\"] = user_recent_tracks[track_id]\n",
    "\n",
    "    # Save this new table to a CSV file\n",
    "    new_table_csv_path = \"/user_features/recent_track.csv\"\n",
    "    recent_track_table.to_csv(new_table_csv_path, index=False)\n",
    "\n",
    "def top_track_feature_csv(all_feature_csv):\n",
    "    df = pd.read_csv(all_feature_csv)\n",
    "\n",
    "    # Extract all unique track IDs from the 'Top Tracks' column\n",
    "    all_track_ids = set()\n",
    "    for top_tracks in df['Top Tracks']:\n",
    "        all_track_ids.update(eval(top_tracks).keys())\n",
    "\n",
    "    top_track_table = pd.DataFrame()\n",
    "    top_track_table[\"user_id\"] = df[\"user_id\"]\n",
    "\n",
    "    for track_id in all_track_ids:\n",
    "        top_track_table[f\"Top Track Score {track_id}\"] = None\n",
    "\n",
    "        for idx, row in df.iterrows():\n",
    "            user_top_tracks = eval(row['Top Tracks'])\n",
    "            if track_id in user_top_tracks:\n",
    "                top_track_table.at[idx, f\"Top Track Score {track_id}\"] = user_top_tracks[track_id]\n",
    "\n",
    "    # Save this new table to a CSV file\n",
    "    new_table_csv_path = \"/user_features/top_track.csv\"\n",
    "    top_track_table.to_csv(new_table_csv_path, index=False)\n",
    "\n",
    "def top_artist_feature_csv(all_feature_csv):\n",
    "    df = pd.read_csv(all_feature_csv)\n",
    "\n",
    "    # Extract all unique artist IDs from the 'Top Artists' column\n",
    "    all_artist_ids = set()\n",
    "    for top_artists in df['Top Artists']:\n",
    "        all_artist_ids.update(eval(top_artists).keys())\n",
    "\n",
    "    top_artist_table = pd.DataFrame()\n",
    "    top_artist_table[\"user_id\"] = df[\"user_id\"]\n",
    "\n",
    "    for artist_id in all_artist_ids:\n",
    "        top_artist_table[f\"Top Artist Score {artist_id}\"] = None\n",
    "\n",
    "        for idx, row in df.iterrows():\n",
    "            user_top_artists = eval(row['Top Artists'])\n",
    "            if artist_id in user_top_artists:\n",
    "                top_artist_table.at[idx, f\"Top Artist Score {artist_id}\"] = user_top_artists[artist_id]\n",
    "\n",
    "    # Save this new table to a CSV file\n",
    "    new_table_csv_path = \"/user_features/top_artist.csv\"\n",
    "    top_artist_table.to_csv(new_table_csv_path, index=False)\n",
    "\n",
    "def tag_feature_csv(all_feature_csv):\n",
    "    df = pd.read_csv(all_feature_csv)\n",
    "\n",
    "    # Extract all unique tags from the 'Top Tags' column\n",
    "    all_tags = set()\n",
    "    for tags_str in df['Top Tags']:\n",
    "        tags = [tag_score.split(\":\")[0].strip() for tag_score in tags_str.split(\",\")]\n",
    "        all_tags.update(tags)\n",
    "\n",
    "    top_tags_table = pd.DataFrame()\n",
    "    top_tags_table[\"user_id\"] = df[\"user_id\"]\n",
    "\n",
    "    for tag in all_tags:\n",
    "        top_tags_table[f\"Top Tag Score {tag}\"] = None\n",
    "\n",
    "        for idx, row in df.iterrows():\n",
    "            tags_dict = {tag_score.split(\":\")[0].strip(): float(tag_score.split(\":\")[1].strip())\n",
    "                         for tag_score in row['Top Tags'].split(\",\")}\n",
    "            if tag in tags_dict:\n",
    "                top_tags_table.at[idx, f\"Top Tag Score {tag}\"] = tags_dict[tag]\n",
    "\n",
    "    # Save this new table to a CSV file\n",
    "    new_table_csv_path = \"/user_features/tags.csv\"\n",
    "    top_tags_table.to_csv(new_table_csv_path, index=False)\n",
    "\n"
   ],
   "metadata": {
    "collapsed": false
   }
  },
  {
   "cell_type": "code",
   "execution_count": null,
   "outputs": [],
   "source": [],
   "metadata": {
    "collapsed": false,
    "pycharm": {
     "is_executing": true
    }
   }
  },
  {
   "cell_type": "markdown",
   "source": [],
   "metadata": {
    "collapsed": false
   }
  },
  {
   "cell_type": "code",
   "execution_count": 80,
   "outputs": [],
   "source": [],
   "metadata": {
    "collapsed": false
   }
  }
 ],
 "metadata": {
  "kernelspec": {
   "display_name": "Python 3",
   "language": "python",
   "name": "python3"
  },
  "language_info": {
   "codemirror_mode": {
    "name": "ipython",
    "version": 2
   },
   "file_extension": ".py",
   "mimetype": "text/x-python",
   "name": "python",
   "nbconvert_exporter": "python",
   "pygments_lexer": "ipython2",
   "version": "2.7.6"
  }
 },
 "nbformat": 4,
 "nbformat_minor": 0
}
